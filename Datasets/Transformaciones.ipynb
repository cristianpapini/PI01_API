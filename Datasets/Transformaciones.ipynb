{
 "cells": [
  {
   "cell_type": "code",
   "execution_count": 1,
   "metadata": {},
   "outputs": [],
   "source": [
    "# Se importan librerias\n",
    "import pandas as pd\n",
    "from Clase_Transformaciones import Archivo"
   ]
  },
  {
   "cell_type": "code",
   "execution_count": 2,
   "metadata": {},
   "outputs": [],
   "source": [
    "# Se procesan los archivos\n",
    "df1 = Archivo.csv_process('disney_plus_titles-score.csv', 'd', ',')\n",
    "df2 = Archivo.csv_process('amazon_prime_titles-score.csv', 'a', ',')\n",
    "df3 = Archivo.csv_process('hulu_titles-score (2).csv', 'h', ',')\n",
    "df4 = Archivo.csv_process('netflix_titles-score.csv', 'n', ',')\n",
    "\n",
    "# Se concatenan todos los DataFrames\n",
    "df_final = pd.concat([df1, df2, df3, df4], ignore_index=True)\n",
    "\n",
    "# Se le modifica el formato a las columnas que son necesarias\n",
    "df_final['score'] = pd.to_numeric(df_final['score'])\n",
    "df_final['release_year'] = pd.to_numeric(df_final['release_year'])\n",
    "\n",
    "# Se convierte el DataFrame en csv\n",
    "df_final.to_csv('Streamings.csv', index=False)"
   ]
  }
 ],
 "metadata": {
  "kernelspec": {
   "display_name": "Python 3",
   "language": "python",
   "name": "python3"
  },
  "language_info": {
   "codemirror_mode": {
    "name": "ipython",
    "version": 3
   },
   "file_extension": ".py",
   "mimetype": "text/x-python",
   "name": "python",
   "nbconvert_exporter": "python",
   "pygments_lexer": "ipython3",
   "version": "3.10.9"
  },
  "orig_nbformat": 4,
  "vscode": {
   "interpreter": {
    "hash": "d2cebceb6c68f4ea04f0cb4e6546cfb3722fb6cf73137fe815b750b1ee1a9c58"
   }
  }
 },
 "nbformat": 4,
 "nbformat_minor": 2
}
